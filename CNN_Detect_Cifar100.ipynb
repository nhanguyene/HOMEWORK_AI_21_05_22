{
  "nbformat": 4,
  "nbformat_minor": 0,
  "metadata": {
    "colab": {
      "name": "CNN_Detect_Cifar100",
      "provenance": [],
      "collapsed_sections": [],
      "authorship_tag": "ABX9TyNmwz3WUJ6OqXbiG9o8IWUd",
      "include_colab_link": true
    },
    "kernelspec": {
      "name": "python3",
      "display_name": "Python 3"
    },
    "language_info": {
      "name": "python"
    },
    "accelerator": "GPU"
  },
  "cells": [
    {
      "cell_type": "markdown",
      "metadata": {
        "id": "view-in-github",
        "colab_type": "text"
      },
      "source": [
        "<a href=\"https://colab.research.google.com/github/nhanguyene/HOMEWORK_AI_21_05_22/blob/main/CNN_Detect_Cifar100.ipynb\" target=\"_parent\"><img src=\"https://colab.research.google.com/assets/colab-badge.svg\" alt=\"Open In Colab\"/></a>"
      ]
    },
    {
      "cell_type": "code",
      "execution_count": 1,
      "metadata": {
        "id": "uY2drt6nn-Xd"
      },
      "outputs": [],
      "source": [
        "#Import libraries\n",
        "import pandas as pd\n",
        "from tensorflow.keras import datasets,layers,models\n",
        "import matplotlib.pyplot as plt\n",
        "from keras.models import Sequential\n",
        "import numpy as np\n",
        "from keras.utils import np_utils\n",
        "from keras.layers import Dense, Activation, Dropout,Conv2D,MaxPooling2D,Flatten\n",
        "from tensorflow.keras.optimizers import SGD,Adam,RMSprop\n",
        "from keras.callbacks import EarlyStopping \n"
      ]
    },
    {
      "cell_type": "code",
      "source": [
        "#Import dataset\n",
        "(train_images,train_labels),(test_images,test_labels)=datasets.cifar100.load_data()"
      ],
      "metadata": {
        "colab": {
          "base_uri": "https://localhost:8080/"
        },
        "id": "ZBTqvwSvoi5e",
        "outputId": "4b5992f3-5f2b-4f29-955d-f79029038c6b"
      },
      "execution_count": 2,
      "outputs": [
        {
          "output_type": "stream",
          "name": "stdout",
          "text": [
            "Downloading data from https://www.cs.toronto.edu/~kriz/cifar-100-python.tar.gz\n",
            "169009152/169001437 [==============================] - 2s 0us/step\n",
            "169017344/169001437 [==============================] - 2s 0us/step\n"
          ]
        }
      ]
    },
    {
      "cell_type": "code",
      "source": [
        "#Set data type\n",
        "train_images=train_images.astype('float32')\n",
        "test_images=test_images.astype('float32')\n",
        "train_images/=255\n",
        "test_images/=255\n",
        "train_labels=np_utils.to_categorical(train_labels,100)\n",
        "test_labels=np_utils.to_categorical(test_labels,100)"
      ],
      "metadata": {
        "id": "a6xDYr2-oqKM"
      },
      "execution_count": 3,
      "outputs": []
    },
    {
      "cell_type": "code",
      "source": [
        "#Create model for train\n",
        "model = Sequential()\n",
        "model.add(Conv2D(input_shape=(32, 32, 3),  kernel_initializer='he_uniform',kernel_size=(2,2),padding='same',strides=(2,2),filters=32))\n",
        "model.add(MaxPooling2D(pool_size=(2,2),strides=(1,1),padding='same'))\n",
        "model.add(Conv2D(kernel_size=(2,2),padding='same',strides=(2,2),filters=64))\n",
        "model.add(MaxPooling2D(pool_size=(2, 2),strides=(1,1),padding='same'))\n",
        "model.add(Flatten())\n",
        "model.add(Dense(512,activation='relu'))\n",
        "model.add(Dense(256, activation='relu'))\n",
        "model.add(Dense(100, activation='softmax'))\n",
        "model.summary()"
      ],
      "metadata": {
        "colab": {
          "base_uri": "https://localhost:8080/"
        },
        "id": "Qdb0CZs4o03e",
        "outputId": "33d9da0e-045e-43ad-bd94-3ae3ed3a1a2a"
      },
      "execution_count": 4,
      "outputs": [
        {
          "output_type": "stream",
          "name": "stdout",
          "text": [
            "Model: \"sequential\"\n",
            "_________________________________________________________________\n",
            " Layer (type)                Output Shape              Param #   \n",
            "=================================================================\n",
            " conv2d (Conv2D)             (None, 16, 16, 32)        416       \n",
            "                                                                 \n",
            " max_pooling2d (MaxPooling2D  (None, 16, 16, 32)       0         \n",
            " )                                                               \n",
            "                                                                 \n",
            " conv2d_1 (Conv2D)           (None, 8, 8, 64)          8256      \n",
            "                                                                 \n",
            " max_pooling2d_1 (MaxPooling  (None, 8, 8, 64)         0         \n",
            " 2D)                                                             \n",
            "                                                                 \n",
            " flatten (Flatten)           (None, 4096)              0         \n",
            "                                                                 \n",
            " dense (Dense)               (None, 512)               2097664   \n",
            "                                                                 \n",
            " dense_1 (Dense)             (None, 256)               131328    \n",
            "                                                                 \n",
            " dense_2 (Dense)             (None, 100)               25700     \n",
            "                                                                 \n",
            "=================================================================\n",
            "Total params: 2,263,364\n",
            "Trainable params: 2,263,364\n",
            "Non-trainable params: 0\n",
            "_________________________________________________________________\n"
          ]
        }
      ]
    },
    {
      "cell_type": "code",
      "source": [
        "#Compile and Training\n",
        "model.compile(optimizer='Adam', loss='categorical_crossentropy', metrics=['accuracy'])\n",
        "history=model.fit(train_images,train_labels,batch_size=32,epochs=100,verbose=1,validation_data=(test_images,test_labels),callbacks=[EarlyStopping(monitor='val_loss',patience=10)])\n"
      ],
      "metadata": {
        "colab": {
          "base_uri": "https://localhost:8080/"
        },
        "id": "tLaDkg3Jo5-F",
        "outputId": "fac12858-c9c4-4672-8652-4f84a44807f3"
      },
      "execution_count": 5,
      "outputs": [
        {
          "output_type": "stream",
          "name": "stdout",
          "text": [
            "Epoch 1/100\n",
            "1563/1563 [==============================] - 19s 5ms/step - loss: 3.4659 - accuracy: 0.1819 - val_loss: 2.9817 - val_accuracy: 0.2701\n",
            "Epoch 2/100\n",
            "1563/1563 [==============================] - 7s 5ms/step - loss: 2.6691 - accuracy: 0.3242 - val_loss: 2.6050 - val_accuracy: 0.3432\n",
            "Epoch 3/100\n",
            "1563/1563 [==============================] - 7s 4ms/step - loss: 2.2848 - accuracy: 0.4025 - val_loss: 2.5361 - val_accuracy: 0.3647\n",
            "Epoch 4/100\n",
            "1563/1563 [==============================] - 7s 4ms/step - loss: 1.9549 - accuracy: 0.4724 - val_loss: 2.4883 - val_accuracy: 0.3871\n",
            "Epoch 5/100\n",
            "1563/1563 [==============================] - 7s 5ms/step - loss: 1.6301 - accuracy: 0.5473 - val_loss: 2.6230 - val_accuracy: 0.3851\n",
            "Epoch 6/100\n",
            "1563/1563 [==============================] - 7s 5ms/step - loss: 1.3161 - accuracy: 0.6243 - val_loss: 2.8521 - val_accuracy: 0.3797\n",
            "Epoch 7/100\n",
            "1563/1563 [==============================] - 7s 4ms/step - loss: 1.0212 - accuracy: 0.6992 - val_loss: 3.1297 - val_accuracy: 0.3770\n",
            "Epoch 8/100\n",
            "1563/1563 [==============================] - 7s 4ms/step - loss: 0.7883 - accuracy: 0.7619 - val_loss: 3.4431 - val_accuracy: 0.3703\n",
            "Epoch 9/100\n",
            "1563/1563 [==============================] - 7s 5ms/step - loss: 0.6256 - accuracy: 0.8055 - val_loss: 3.9524 - val_accuracy: 0.3574\n",
            "Epoch 10/100\n",
            "1563/1563 [==============================] - 7s 4ms/step - loss: 0.4997 - accuracy: 0.8428 - val_loss: 4.2755 - val_accuracy: 0.3550\n",
            "Epoch 11/100\n",
            "1563/1563 [==============================] - 7s 4ms/step - loss: 0.4384 - accuracy: 0.8629 - val_loss: 4.7422 - val_accuracy: 0.3488\n",
            "Epoch 12/100\n",
            "1563/1563 [==============================] - 7s 4ms/step - loss: 0.3974 - accuracy: 0.8761 - val_loss: 5.0034 - val_accuracy: 0.3504\n",
            "Epoch 13/100\n",
            "1563/1563 [==============================] - 7s 5ms/step - loss: 0.3429 - accuracy: 0.8920 - val_loss: 5.4976 - val_accuracy: 0.3617\n",
            "Epoch 14/100\n",
            "1563/1563 [==============================] - 7s 5ms/step - loss: 0.3291 - accuracy: 0.8963 - val_loss: 5.6835 - val_accuracy: 0.3614\n"
          ]
        }
      ]
    },
    {
      "cell_type": "code",
      "source": [
        "#Draw plot and make evaluate\n",
        "plt.plot(history.history['accuracy'])\n",
        "plt.xlabel('epoch')\n",
        "plt.legend(['accuracy'])\n",
        "plt.show()\n",
        "\n",
        "score = model.evaluate(test_images,test_labels, verbose=1)\n",
        "print('Test error:',score[0])\n",
        "print('Test accuracy: ',score[1])\n"
      ],
      "metadata": {
        "colab": {
          "base_uri": "https://localhost:8080/",
          "height": 331
        },
        "id": "eBVKuMtio_Hd",
        "outputId": "8705ce32-d25a-4730-e3e8-2f3104dfbdd8"
      },
      "execution_count": 6,
      "outputs": [
        {
          "output_type": "display_data",
          "data": {
            "text/plain": [
              "<Figure size 432x288 with 1 Axes>"
            ],
            "image/png": "[encoded data removed]"
          },
          "metadata": {
            "needs_background": "light"
          }
        },
        {
          "output_type": "stream",
          "name": "stdout",
          "text": [
            "313/313 [==============================] - 1s 5ms/step - loss: 5.6835 - accuracy: 0.3614\n",
            "Test error: 5.683497905731201\n",
            "Test accuracy:  0.3614000082015991\n"
          ]
        }
      ]
    },
    {
      "cell_type": "code",
      "source": [
        "#Make test and predict\n",
        "n=int(input(\"Index ? \"))\n",
        "plt.imshow(test_images[n].reshape(32,32,3))\n",
        "y_predict = model.predict(test_images[n].reshape(1,32,32,3))\n",
        "print('Predicted value: ', np.argmax(y_predict))\n",
        "print('Correct value: ',np.argmax(test_labels[n]))"
      ],
      "metadata": {
        "colab": {
          "base_uri": "https://localhost:8080/",
          "height": 318
        },
        "id": "6QP8ZrimpI2Q",
        "outputId": "d3713de9-5091-41ec-a6c0-fc2fb1546bbc"
      },
      "execution_count": 7,
      "outputs": [
        {
          "output_type": "stream",
          "name": "stdout",
          "text": [
            "Index ? 21\n",
            "Predicted value:  48\n",
            "Correct value:  49\n"
          ]
        },
        {
          "output_type": "display_data",
          "data": {
            "text/plain": [
              "<Figure size 432x288 with 1 Axes>"
            ],
            "image/png": "[encoded data removed]"
          },
          "metadata": {
            "needs_background": "light"
          }
        }
      ]
    }
  ]
}