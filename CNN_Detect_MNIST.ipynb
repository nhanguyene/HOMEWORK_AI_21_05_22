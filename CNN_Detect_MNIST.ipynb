{
  "nbformat": 4,
  "nbformat_minor": 0,
  "metadata": {
    "colab": {
      "name": "CNN_Detect_MNIST",
      "provenance": [],
      "collapsed_sections": [],
      "authorship_tag": "ABX9TyOAqQHWocKoS6xfDu+LDFqL",
      "include_colab_link": true
    },
    "kernelspec": {
      "name": "python3",
      "display_name": "Python 3"
    },
    "language_info": {
      "name": "python"
    }
  },
  "cells": [
    {
      "cell_type": "markdown",
      "metadata": {
        "id": "view-in-github",
        "colab_type": "text"
      },
      "source": [
        "<a href=\"https://colab.research.google.com/github/nhanguyene/HOMEWORK_AI_21_05_22/blob/main/CNN_Detect_MNIST.ipynb\" target=\"_parent\"><img src=\"https://colab.research.google.com/assets/colab-badge.svg\" alt=\"Open In Colab\"/></a>"
      ]
    },
    {
      "cell_type": "code",
      "execution_count": 1,
      "metadata": {
        "id": "kjdhthNVr68S"
      },
      "outputs": [],
      "source": [
        "#Import libraries\n",
        "from keras.datasets import mnist\n",
        "from sklearn import utils\n",
        "from keras.models import Sequential\n",
        "from keras.layers import Dense, Activation, Dropout,Conv2D,MaxPooling2D,Flatten\n",
        "from tensorflow.keras.optimizers import RMSprop,Adam\n",
        "import numpy as np\n",
        "from keras.utils import np_utils\n",
        "import pandas as pd\n",
        "from keras.callbacks import EarlyStopping \n",
        "import matplotlib.pyplot as plt"
      ]
    },
    {
      "cell_type": "code",
      "source": [
        "#Import dataset\n",
        "(x_train,y_train),(x_test,y_test)=mnist.load_data()\n"
      ],
      "metadata": {
        "colab": {
          "base_uri": "https://localhost:8080/"
        },
        "id": "CdzNCsttsGSe",
        "outputId": "e00bae67-fa62-45e4-e153-5b4af0171a0d"
      },
      "execution_count": 2,
      "outputs": [
        {
          "output_type": "stream",
          "name": "stdout",
          "text": [
            "Downloading data from https://storage.googleapis.com/tensorflow/tf-keras-datasets/mnist.npz\n",
            "11493376/11490434 [==============================] - 0s 0us/step\n",
            "11501568/11490434 [==============================] - 0s 0us/step\n"
          ]
        }
      ]
    },
    {
      "cell_type": "code",
      "source": [
        "#Set data type\n",
        "x_train=x_train.astype('float32')\n",
        "x_test=x_test.astype('float32')\n",
        "\n",
        "x_train=x_train.reshape(60000,28,28,1)\n",
        "x_test=x_test.reshape(10000,28,28,1)\n",
        "\n",
        "x_train/=255\n",
        "x_test/=255\n",
        "\n",
        "y_train=np_utils.to_categorical(y_train,10)\n",
        "y_test=np_utils.to_categorical(y_test,10)\n"
      ],
      "metadata": {
        "id": "n3gXP7NRsKcd"
      },
      "execution_count": 3,
      "outputs": []
    },
    {
      "cell_type": "code",
      "source": [
        "#Create model for train\n",
        "model = Sequential()\n",
        "model.add(Conv2D(64,(3,3),activation='relu',input_shape=(28,28,1)))\n",
        "model.add(MaxPooling2D(2,2))\n",
        "model.add(Conv2D(64,(3,3),input_shape=(28,28),activation='relu'))\n",
        "model.add(MaxPooling2D(2,2))\n",
        "model.add(Flatten())\n",
        "model.add(Dense(128,activation='relu'))\n",
        "model.add(Dense(10, activation='softmax'))\n",
        "model.summary()"
      ],
      "metadata": {
        "colab": {
          "base_uri": "https://localhost:8080/"
        },
        "id": "Ls4Z1FejsPbl",
        "outputId": "1e7b58ee-f30b-4c00-fd89-86d666073f2d"
      },
      "execution_count": 4,
      "outputs": [
        {
          "output_type": "stream",
          "name": "stdout",
          "text": [
            "Model: \"sequential\"\n",
            "_________________________________________________________________\n",
            " Layer (type)                Output Shape              Param #   \n",
            "=================================================================\n",
            " conv2d (Conv2D)             (None, 26, 26, 64)        640       \n",
            "                                                                 \n",
            " max_pooling2d (MaxPooling2D  (None, 13, 13, 64)       0         \n",
            " )                                                               \n",
            "                                                                 \n",
            " conv2d_1 (Conv2D)           (None, 11, 11, 64)        36928     \n",
            "                                                                 \n",
            " max_pooling2d_1 (MaxPooling  (None, 5, 5, 64)         0         \n",
            " 2D)                                                             \n",
            "                                                                 \n",
            " flatten (Flatten)           (None, 1600)              0         \n",
            "                                                                 \n",
            " dense (Dense)               (None, 128)               204928    \n",
            "                                                                 \n",
            " dense_1 (Dense)             (None, 10)                1290      \n",
            "                                                                 \n",
            "=================================================================\n",
            "Total params: 243,786\n",
            "Trainable params: 243,786\n",
            "Non-trainable params: 0\n",
            "_________________________________________________________________\n"
          ]
        }
      ]
    },
    {
      "cell_type": "code",
      "source": [
        "#Compile and Training\n",
        "model.compile(optimizer='Adam', loss='categorical_crossentropy', metrics=['accuracy'])\n",
        "history=model.fit(x_train,y_train,batch_size=128,epochs=500,verbose=1,validation_data=(x_test,y_test),callbacks=[EarlyStopping(monitor='val_loss',patience=20)])"
      ],
      "metadata": {
        "colab": {
          "base_uri": "https://localhost:8080/"
        },
        "id": "7rIGQG8nsSo1",
        "outputId": "e507b381-71a4-43ca-aa2d-3e17e8bf52a7"
      },
      "execution_count": 5,
      "outputs": [
        {
          "output_type": "stream",
          "name": "stdout",
          "text": [
            "Epoch 1/500\n",
            "469/469 [==============================] - 85s 180ms/step - loss: 0.2003 - accuracy: 0.9428 - val_loss: 0.0754 - val_accuracy: 0.9761\n",
            "Epoch 2/500\n",
            "469/469 [==============================] - 81s 172ms/step - loss: 0.0530 - accuracy: 0.9843 - val_loss: 0.0566 - val_accuracy: 0.9819\n",
            "Epoch 3/500\n",
            "469/469 [==============================] - 88s 189ms/step - loss: 0.0373 - accuracy: 0.9881 - val_loss: 0.0344 - val_accuracy: 0.9887\n",
            "Epoch 4/500\n",
            "469/469 [==============================] - 83s 177ms/step - loss: 0.0278 - accuracy: 0.9910 - val_loss: 0.0339 - val_accuracy: 0.9883\n",
            "Epoch 5/500\n",
            "469/469 [==============================] - 83s 176ms/step - loss: 0.0228 - accuracy: 0.9929 - val_loss: 0.0239 - val_accuracy: 0.9925\n",
            "Epoch 6/500\n",
            "469/469 [==============================] - 82s 174ms/step - loss: 0.0163 - accuracy: 0.9946 - val_loss: 0.0302 - val_accuracy: 0.9897\n",
            "Epoch 7/500\n",
            "469/469 [==============================] - 82s 175ms/step - loss: 0.0129 - accuracy: 0.9957 - val_loss: 0.0259 - val_accuracy: 0.9917\n",
            "Epoch 8/500\n",
            "469/469 [==============================] - 81s 173ms/step - loss: 0.0114 - accuracy: 0.9963 - val_loss: 0.0324 - val_accuracy: 0.9911\n",
            "Epoch 9/500\n",
            "469/469 [==============================] - 81s 173ms/step - loss: 0.0096 - accuracy: 0.9968 - val_loss: 0.0349 - val_accuracy: 0.9899\n",
            "Epoch 10/500\n",
            "469/469 [==============================] - 80s 171ms/step - loss: 0.0061 - accuracy: 0.9981 - val_loss: 0.0324 - val_accuracy: 0.9916\n",
            "Epoch 11/500\n",
            "469/469 [==============================] - 81s 173ms/step - loss: 0.0076 - accuracy: 0.9973 - val_loss: 0.0320 - val_accuracy: 0.9902\n",
            "Epoch 12/500\n",
            "469/469 [==============================] - 80s 171ms/step - loss: 0.0055 - accuracy: 0.9982 - val_loss: 0.0337 - val_accuracy: 0.9907\n",
            "Epoch 13/500\n",
            "469/469 [==============================] - 81s 173ms/step - loss: 0.0067 - accuracy: 0.9976 - val_loss: 0.0323 - val_accuracy: 0.9916\n",
            "Epoch 14/500\n",
            "469/469 [==============================] - 82s 174ms/step - loss: 0.0046 - accuracy: 0.9984 - val_loss: 0.0332 - val_accuracy: 0.9913\n",
            "Epoch 15/500\n",
            "469/469 [==============================] - 81s 174ms/step - loss: 0.0038 - accuracy: 0.9988 - val_loss: 0.0382 - val_accuracy: 0.9906\n",
            "Epoch 16/500\n",
            "469/469 [==============================] - 81s 174ms/step - loss: 0.0039 - accuracy: 0.9987 - val_loss: 0.0374 - val_accuracy: 0.9917\n",
            "Epoch 17/500\n",
            "469/469 [==============================] - 81s 174ms/step - loss: 0.0028 - accuracy: 0.9992 - val_loss: 0.0431 - val_accuracy: 0.9919\n",
            "Epoch 18/500\n",
            "469/469 [==============================] - 82s 176ms/step - loss: 0.0057 - accuracy: 0.9980 - val_loss: 0.0365 - val_accuracy: 0.9907\n",
            "Epoch 19/500\n",
            "469/469 [==============================] - 80s 171ms/step - loss: 0.0026 - accuracy: 0.9993 - val_loss: 0.0342 - val_accuracy: 0.9923\n",
            "Epoch 20/500\n",
            "469/469 [==============================] - 81s 172ms/step - loss: 0.0029 - accuracy: 0.9990 - val_loss: 0.0446 - val_accuracy: 0.9909\n",
            "Epoch 21/500\n",
            "469/469 [==============================] - 81s 174ms/step - loss: 0.0032 - accuracy: 0.9989 - val_loss: 0.0456 - val_accuracy: 0.9905\n",
            "Epoch 22/500\n",
            "469/469 [==============================] - 80s 171ms/step - loss: 0.0011 - accuracy: 0.9996 - val_loss: 0.0384 - val_accuracy: 0.9925\n",
            "Epoch 23/500\n",
            "469/469 [==============================] - 81s 172ms/step - loss: 0.0057 - accuracy: 0.9981 - val_loss: 0.0349 - val_accuracy: 0.9921\n",
            "Epoch 24/500\n",
            "469/469 [==============================] - 81s 172ms/step - loss: 0.0018 - accuracy: 0.9994 - val_loss: 0.0368 - val_accuracy: 0.9931\n",
            "Epoch 25/500\n",
            "469/469 [==============================] - 81s 172ms/step - loss: 0.0018 - accuracy: 0.9995 - val_loss: 0.0346 - val_accuracy: 0.9936\n"
          ]
        }
      ]
    },
    {
      "cell_type": "code",
      "source": [
        "#Draw plot and make evaluate\n",
        "plt.plot(history.history['accuracy'])\n",
        "plt.xlabel('epoch')\n",
        "plt.legend(['accuracy'])\n",
        "plt.show()\n",
        "\n",
        "score = model.evaluate(x_test, y_test, verbose=0)\n",
        "print('Test error:',score[0])\n",
        "print('Test accuracy: ',score[1])"
      ],
      "metadata": {
        "colab": {
          "base_uri": "https://localhost:8080/",
          "height": 314
        },
        "id": "9KhwzvpesYed",
        "outputId": "7f3e3cef-72bd-4adf-97f7-f8fdcbdf2f45"
      },
      "execution_count": 6,
      "outputs": [
        {
          "output_type": "display_data",
          "data": {
            "text/plain": [
              "<Figure size 432x288 with 1 Axes>"
            ],
            "image/png": "[encoded data removed]"
          },
          "metadata": {
            "needs_background": "light"
          }
        },
        {
          "output_type": "stream",
          "name": "stdout",
          "text": [
            "Test error: 0.03459727764129639\n",
            "Test accuracy:  0.9936000108718872\n"
          ]
        }
      ]
    },
    {
      "cell_type": "code",
      "source": [
        "#Make test and predict\n",
        "n=int(input(\"Index ? \"))\n",
        "print(x_test.shape)\n",
        "\n",
        "y_predict = model.predict(x_test[n].reshape(1,28,28,1))\n",
        "print('Predicted value: ', np.argmax(y_predict))\n",
        "print('Correct value: ',np.argmax(y_test[n]))\n",
        "\n",
        "(x_tr,y_tr),(x_t,y_t)=mnist.load_data()\n",
        "for i in range(1,10):\n",
        "  plt.subplot(330+i)\n",
        "  plt.imshow(x_t[i],cmap='gray')"
      ],
      "metadata": {
        "colab": {
          "base_uri": "https://localhost:8080/",
          "height": 337
        },
        "id": "EB6L9J3WseiF",
        "outputId": "3be2bc65-ede2-45b7-d8e6-0ef1a95847c9"
      },
      "execution_count": 7,
      "outputs": [
        {
          "output_type": "stream",
          "name": "stdout",
          "text": [
            "Index ? 35\n",
            "(10000, 28, 28, 1)\n",
            "Predicted value:  2\n",
            "Correct value:  2\n"
          ]
        },
        {
          "output_type": "display_data",
          "data": {
            "text/plain": [
              "<Figure size 432x288 with 9 Axes>"
            ],
            "image/png": "[encoded data removed]"
          },
          "metadata": {
            "needs_background": "light"
          }
        }
      ]
    }
  ]
}