{
  "nbformat": 4,
  "nbformat_minor": 0,
  "metadata": {
    "colab": {
      "name": "CNN_Detect Fashion_MNIST",
      "provenance": [],
      "collapsed_sections": [],
      "authorship_tag": "ABX9TyM9/LvD3fpVJmvz91Ii5OUm",
      "include_colab_link": true
    },
    "kernelspec": {
      "name": "python3",
      "display_name": "Python 3"
    },
    "language_info": {
      "name": "python"
    },
    "accelerator": "TPU"
  },
  "cells": [
    {
      "cell_type": "markdown",
      "metadata": {
        "id": "view-in-github",
        "colab_type": "text"
      },
      "source": [
        "<a href=\"https://colab.research.google.com/github/nhanguyene/HOMEWORK_AI_21_05_22/blob/main/CNN_Detect_Fashion_MNIST.ipynb\" target=\"_parent\"><img src=\"https://colab.research.google.com/assets/colab-badge.svg\" alt=\"Open In Colab\"/></a>"
      ]
    },
    {
      "cell_type": "code",
      "execution_count": 1,
      "metadata": {
        "id": "9H0ggZRvsxWe"
      },
      "outputs": [],
      "source": [
        "#Import libraries\n",
        "from keras.datasets import fashion_mnist\n",
        "from sklearn import utils\n",
        "from keras.models import Sequential\n",
        "from keras.layers import Dense, Activation, Dropout,Conv2D,MaxPooling2D,Flatten\n",
        "from tensorflow.keras.optimizers import RMSprop,Adam\n",
        "import numpy as np\n",
        "from keras.utils import np_utils\n",
        "import pandas as pd\n",
        "from keras.callbacks import EarlyStopping \n",
        "import matplotlib.pyplot as plt\n"
      ]
    },
    {
      "cell_type": "code",
      "source": [
        "#Import dataset\n",
        "(x_train,y_train),(x_test,y_test)=fashion_mnist.load_data()\n"
      ],
      "metadata": {
        "colab": {
          "base_uri": "https://localhost:8080/"
        },
        "id": "izVD5DXKtRKw",
        "outputId": "6dfd6bdc-b6f6-464f-8b2a-0d1633dfee2d"
      },
      "execution_count": 2,
      "outputs": [
        {
          "output_type": "stream",
          "name": "stdout",
          "text": [
            "Downloading data from https://storage.googleapis.com/tensorflow/tf-keras-datasets/train-labels-idx1-ubyte.gz\n",
            "32768/29515 [=================================] - 0s 0us/step\n",
            "40960/29515 [=========================================] - 0s 0us/step\n",
            "Downloading data from https://storage.googleapis.com/tensorflow/tf-keras-datasets/train-images-idx3-ubyte.gz\n",
            "26427392/26421880 [==============================] - 0s 0us/step\n",
            "26435584/26421880 [==============================] - 0s 0us/step\n",
            "Downloading data from https://storage.googleapis.com/tensorflow/tf-keras-datasets/t10k-labels-idx1-ubyte.gz\n",
            "16384/5148 [===============================================================================================] - 0s 0us/step\n",
            "Downloading data from https://storage.googleapis.com/tensorflow/tf-keras-datasets/t10k-images-idx3-ubyte.gz\n",
            "4423680/4422102 [==============================] - 0s 0us/step\n",
            "4431872/4422102 [==============================] - 0s 0us/step\n"
          ]
        }
      ]
    },
    {
      "cell_type": "code",
      "source": [
        "#Set data type\n",
        "x_train=x_train.astype('float32')\n",
        "x_test=x_test.astype('float32')\n",
        "\n",
        "x_train=x_train.reshape(60000,28,28,1)\n",
        "x_test=x_test.reshape(10000,28,28,1)\n",
        "\n",
        "x_train/=255\n",
        "x_test/=255\n",
        "\n",
        "y_train=np_utils.to_categorical(y_train,10)\n",
        "y_test=np_utils.to_categorical(y_test,10)\n"
      ],
      "metadata": {
        "id": "JId5BcpvtUAN"
      },
      "execution_count": 3,
      "outputs": []
    },
    {
      "cell_type": "code",
      "source": [
        "#Create model for train\n",
        "model = Sequential()\n",
        "model.add(Conv2D(64,(3,3),activation='relu',input_shape=(28,28,1)))\n",
        "model.add(MaxPooling2D(2,2))\n",
        "model.add(Conv2D(64,(3,3),input_shape=(28,28),activation='relu'))\n",
        "model.add(MaxPooling2D(2,2))\n",
        "model.add(Flatten())\n",
        "model.add(Dense(128,activation='relu'))\n",
        "model.add(Dense(10, activation='softmax'))\n",
        "model.summary()"
      ],
      "metadata": {
        "colab": {
          "base_uri": "https://localhost:8080/"
        },
        "id": "wp4DqWuHtZr8",
        "outputId": "4a2ae861-c9df-4133-80db-727b391d3068"
      },
      "execution_count": 4,
      "outputs": [
        {
          "output_type": "stream",
          "name": "stdout",
          "text": [
            "Model: \"sequential\"\n",
            "_________________________________________________________________\n",
            " Layer (type)                Output Shape              Param #   \n",
            "=================================================================\n",
            " conv2d (Conv2D)             (None, 26, 26, 64)        640       \n",
            "                                                                 \n",
            " max_pooling2d (MaxPooling2D  (None, 13, 13, 64)       0         \n",
            " )                                                               \n",
            "                                                                 \n",
            " conv2d_1 (Conv2D)           (None, 11, 11, 64)        36928     \n",
            "                                                                 \n",
            " max_pooling2d_1 (MaxPooling  (None, 5, 5, 64)         0         \n",
            " 2D)                                                             \n",
            "                                                                 \n",
            " flatten (Flatten)           (None, 1600)              0         \n",
            "                                                                 \n",
            " dense (Dense)               (None, 128)               204928    \n",
            "                                                                 \n",
            " dense_1 (Dense)             (None, 10)                1290      \n",
            "                                                                 \n",
            "=================================================================\n",
            "Total params: 243,786\n",
            "Trainable params: 243,786\n",
            "Non-trainable params: 0\n",
            "_________________________________________________________________\n"
          ]
        }
      ]
    },
    {
      "cell_type": "code",
      "source": [
        "#Compile and Training\n",
        "model.compile(optimizer='Adam', loss='categorical_crossentropy', metrics=['accuracy'])\n",
        "history=model.fit(x_train,y_train,batch_size=128,epochs=500,verbose=1,validation_data=(x_test,y_test),callbacks=[EarlyStopping(monitor='val_loss',patience=20)])"
      ],
      "metadata": {
        "colab": {
          "base_uri": "https://localhost:8080/"
        },
        "id": "M-_D6ZjtteEc",
        "outputId": "71e44d82-1d3a-4db4-a683-bbbf79e37b8f"
      },
      "execution_count": 5,
      "outputs": [
        {
          "output_type": "stream",
          "name": "stdout",
          "text": [
            "Epoch 1/500\n",
            "469/469 [==============================] - 90s 189ms/step - loss: 0.5222 - accuracy: 0.8140 - val_loss: 0.3749 - val_accuracy: 0.8679\n",
            "Epoch 2/500\n",
            "469/469 [==============================] - 82s 176ms/step - loss: 0.3391 - accuracy: 0.8782 - val_loss: 0.3376 - val_accuracy: 0.8815\n",
            "Epoch 3/500\n",
            "469/469 [==============================] - 82s 175ms/step - loss: 0.2921 - accuracy: 0.8945 - val_loss: 0.3141 - val_accuracy: 0.8863\n",
            "Epoch 4/500\n",
            "469/469 [==============================] - 83s 178ms/step - loss: 0.2597 - accuracy: 0.9057 - val_loss: 0.2801 - val_accuracy: 0.8996\n",
            "Epoch 5/500\n",
            "469/469 [==============================] - 83s 176ms/step - loss: 0.2385 - accuracy: 0.9132 - val_loss: 0.2756 - val_accuracy: 0.9019\n",
            "Epoch 6/500\n",
            "469/469 [==============================] - 83s 177ms/step - loss: 0.2153 - accuracy: 0.9222 - val_loss: 0.2568 - val_accuracy: 0.9094\n",
            "Epoch 7/500\n",
            "469/469 [==============================] - 82s 174ms/step - loss: 0.1982 - accuracy: 0.9267 - val_loss: 0.2619 - val_accuracy: 0.9055\n",
            "Epoch 8/500\n",
            "469/469 [==============================] - 81s 172ms/step - loss: 0.1811 - accuracy: 0.9332 - val_loss: 0.2548 - val_accuracy: 0.9082\n",
            "Epoch 9/500\n",
            "469/469 [==============================] - 81s 173ms/step - loss: 0.1661 - accuracy: 0.9390 - val_loss: 0.2506 - val_accuracy: 0.9109\n",
            "Epoch 10/500\n",
            "469/469 [==============================] - 81s 172ms/step - loss: 0.1529 - accuracy: 0.9428 - val_loss: 0.2513 - val_accuracy: 0.9106\n",
            "Epoch 11/500\n",
            "469/469 [==============================] - 80s 171ms/step - loss: 0.1390 - accuracy: 0.9485 - val_loss: 0.2716 - val_accuracy: 0.9070\n",
            "Epoch 12/500\n",
            "469/469 [==============================] - 81s 173ms/step - loss: 0.1252 - accuracy: 0.9542 - val_loss: 0.2624 - val_accuracy: 0.9103\n",
            "Epoch 13/500\n",
            "469/469 [==============================] - 81s 173ms/step - loss: 0.1149 - accuracy: 0.9575 - val_loss: 0.2877 - val_accuracy: 0.9073\n",
            "Epoch 14/500\n",
            "469/469 [==============================] - 80s 171ms/step - loss: 0.1039 - accuracy: 0.9621 - val_loss: 0.2652 - val_accuracy: 0.9129\n",
            "Epoch 15/500\n",
            "469/469 [==============================] - 79s 169ms/step - loss: 0.0928 - accuracy: 0.9654 - val_loss: 0.2840 - val_accuracy: 0.9147\n",
            "Epoch 16/500\n",
            "469/469 [==============================] - 79s 168ms/step - loss: 0.0848 - accuracy: 0.9690 - val_loss: 0.3177 - val_accuracy: 0.9092\n",
            "Epoch 17/500\n",
            "469/469 [==============================] - 79s 169ms/step - loss: 0.0765 - accuracy: 0.9722 - val_loss: 0.3067 - val_accuracy: 0.9142\n",
            "Epoch 18/500\n",
            "469/469 [==============================] - 80s 170ms/step - loss: 0.0696 - accuracy: 0.9743 - val_loss: 0.3130 - val_accuracy: 0.9115\n",
            "Epoch 19/500\n",
            "469/469 [==============================] - 80s 170ms/step - loss: 0.0609 - accuracy: 0.9780 - val_loss: 0.3337 - val_accuracy: 0.9116\n",
            "Epoch 20/500\n",
            "469/469 [==============================] - 80s 170ms/step - loss: 0.0575 - accuracy: 0.9787 - val_loss: 0.3421 - val_accuracy: 0.9128\n",
            "Epoch 21/500\n",
            "469/469 [==============================] - 82s 174ms/step - loss: 0.0488 - accuracy: 0.9821 - val_loss: 0.3625 - val_accuracy: 0.9117\n",
            "Epoch 22/500\n",
            "469/469 [==============================] - 82s 175ms/step - loss: 0.0475 - accuracy: 0.9829 - val_loss: 0.3797 - val_accuracy: 0.9139\n",
            "Epoch 23/500\n",
            "469/469 [==============================] - 81s 173ms/step - loss: 0.0429 - accuracy: 0.9851 - val_loss: 0.3806 - val_accuracy: 0.9064\n",
            "Epoch 24/500\n",
            "469/469 [==============================] - 82s 174ms/step - loss: 0.0362 - accuracy: 0.9869 - val_loss: 0.4065 - val_accuracy: 0.9133\n",
            "Epoch 25/500\n",
            "469/469 [==============================] - 81s 172ms/step - loss: 0.0375 - accuracy: 0.9863 - val_loss: 0.4221 - val_accuracy: 0.9092\n",
            "Epoch 26/500\n",
            "469/469 [==============================] - 80s 171ms/step - loss: 0.0314 - accuracy: 0.9888 - val_loss: 0.4481 - val_accuracy: 0.9146\n",
            "Epoch 27/500\n",
            "469/469 [==============================] - 80s 171ms/step - loss: 0.0298 - accuracy: 0.9888 - val_loss: 0.5218 - val_accuracy: 0.9009\n",
            "Epoch 28/500\n",
            "469/469 [==============================] - 80s 170ms/step - loss: 0.0256 - accuracy: 0.9911 - val_loss: 0.4749 - val_accuracy: 0.9100\n",
            "Epoch 29/500\n",
            "469/469 [==============================] - 80s 170ms/step - loss: 0.0245 - accuracy: 0.9912 - val_loss: 0.4805 - val_accuracy: 0.9137\n"
          ]
        }
      ]
    },
    {
      "cell_type": "code",
      "source": [
        "#Draw plot and make evaluate\n",
        "\n",
        "plt.plot(history.history['accuracy'])\n",
        "plt.xlabel('epoch')\n",
        "plt.legend(['accuracy'])\n",
        "plt.show()\n",
        "\n",
        "score = model.evaluate(x_test, y_test, verbose=0)\n",
        "print('Test error:',score[0])\n",
        "print('Test accuracy: ',score[1])"
      ],
      "metadata": {
        "id": "nN3B8CkWtjDd"
      },
      "execution_count": null,
      "outputs": []
    },
    {
      "cell_type": "code",
      "source": [
        "#Make test and predict\n",
        "n=int(input(\"Index ? \"))\n",
        "print(x_test.shape)\n",
        "\n",
        "y_predict = model.predict(x_test[n].reshape(1,28,28,1))\n",
        "print('Predicted value: ', np.argmax(y_predict))\n",
        "print('Correct value: ',np.argmax(y_test[n]))\n",
        "\n",
        "(x_tr,y_tr),(x_t,y_t)=fashion_mnist.load_data()\n",
        "for i in range(1,10):\n",
        "  plt.subplot(330+i)\n",
        "  plt.imshow(x_t[i],cmap='gray')"
      ],
      "metadata": {
        "id": "wGxaJ__3tqJG"
      },
      "execution_count": null,
      "outputs": []
    }
  ]
}